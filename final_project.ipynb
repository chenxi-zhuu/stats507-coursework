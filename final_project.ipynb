{
 "cells": [
  {
   "cell_type": "markdown",
   "id": "0d9c877c",
   "metadata": {},
   "source": [
    "# data\n"
   ]
  },
  {
   "cell_type": "code",
   "execution_count": 5,
   "id": "ce0b1df1",
   "metadata": {},
   "outputs": [
    {
     "name": "stdout",
     "output_type": "stream",
     "text": [
      "   Age Sex ChestPainType  RestingBP  Cholesterol  FastingBS RestingECG  MaxHR  \\\n",
      "0   40   M           ATA        140          289          0     Normal    172   \n",
      "1   49   F           NAP        160          180          0     Normal    156   \n",
      "2   37   M           ATA        130          283          0         ST     98   \n",
      "3   48   F           ASY        138          214          0     Normal    108   \n",
      "4   54   M           NAP        150          195          0     Normal    122   \n",
      "\n",
      "  ExerciseAngina  Oldpeak ST_Slope  HeartDisease  \n",
      "0              N      0.0       Up             0  \n",
      "1              N      1.0     Flat             1  \n",
      "2              N      0.0       Up             0  \n",
      "3              Y      1.5     Flat             1  \n",
      "4              N      0.0       Up             0  \n"
     ]
    }
   ],
   "source": [
    " import pandas as pd\n",
    "\n",
    "file_path = r'C:\\Users\\zhuc2\\Desktop\\fall2024\\stats507\\heart (3).csv'\n",
    "heart_data = pd.read_csv(file_path)\n",
    "\n",
    "print(heart_data.head())\n"
   ]
  },
  {
   "cell_type": "markdown",
   "id": "64e06aed",
   "metadata": {},
   "source": [
    "clean the dataset"
   ]
  },
  {
   "cell_type": "code",
   "execution_count": 6,
   "id": "86253d10",
   "metadata": {},
   "outputs": [
    {
     "name": "stdout",
     "output_type": "stream",
     "text": [
      "   Age  Sex  RestingBP  Cholesterol  FastingBS  RestingECG  MaxHR  \\\n",
      "0   40    2        140          289          0         1.0    172   \n",
      "1   49    1        160          180          0         1.0    156   \n",
      "2   37    2        130          283          0         2.0     98   \n",
      "3   48    1        138          214          0         1.0    108   \n",
      "4   54    2        150          195          0         1.0    122   \n",
      "\n",
      "   ExerciseAngina  Oldpeak  ST_Slope  HeartDisease  ChestPainType_ASY  \\\n",
      "0               1      0.0       1.0             0                  0   \n",
      "1               1      1.0       2.0             1                  0   \n",
      "2               1      0.0       1.0             0                  0   \n",
      "3               2      1.5       2.0             1                  1   \n",
      "4               1      0.0       1.0             0                  0   \n",
      "\n",
      "   ChestPainType_ATA  ChestPainType_NAP  ChestPainType_TA  \n",
      "0                  1                  0                 0  \n",
      "1                  0                  1                 0  \n",
      "2                  1                  0                 0  \n",
      "3                  0                  0                 0  \n",
      "4                  0                  1                 0  \n"
     ]
    }
   ],
   "source": [
    "#drop rows with missing values\n",
    "heart_data.dropna(inplace=True)\n",
    "#sex:feamle=1, male=2\n",
    "#restingecg: normal=1, st=2\n",
    "#exerciseangina: n=1 y=2\n",
    "#st_slop:up=1, flat=2\n",
    "\n",
    "heart_data['Sex'] = heart_data['Sex'].map({'F': 1, 'M': 2})\n",
    "heart_data['RestingECG'] = heart_data['RestingECG'].map({'Normal': 1, 'ST': 2})\n",
    "heart_data['ExerciseAngina'] = heart_data['ExerciseAngina'].map({'N': 1, 'Y': 2})\n",
    "heart_data['ST_Slope'] = heart_data['ST_Slope'].map({'Up': 1, 'Flat': 2})\n",
    "# Replace ChestPainType with binary columns\n",
    "heart_data = pd.get_dummies(heart_data, columns=['ChestPainType'], prefix='ChestPainType')\n",
    "\n",
    "\n",
    "#drop all outliers\n",
    "def drop_outliers(df, columns):\n",
    "    for col in columns:\n",
    "        Q1 = df[col].quantile(0.25)\n",
    "        Q3 = df[col].quantile(0.75)\n",
    "        IQR = Q3 - Q1\n",
    "        lower_bound = Q1 - 1.5 * IQR\n",
    "        upper_bound = Q3 + 1.5 * IQR\n",
    "        df = df[(df[col] >= lower_bound) & (df[col] <= upper_bound)]\n",
    "    return df\n",
    "\n",
    "# List of numerical columns to check for outliers\n",
    "numerical_columns = ['Age', 'RestingBP', 'Cholesterol', 'MaxHR', 'Oldpeak']\n",
    "heart_data = drop_outliers(heart_data, numerical_columns)\n",
    "\n",
    "print(heart_data.head())"
   ]
  },
  {
   "cell_type": "markdown",
   "id": "bb952ceb",
   "metadata": {},
   "source": [
    "Use correlation coefficient, chi-square test, ANOVA F-test, variance threshold as the filter methods to do the feature selection in variables"
   ]
  },
  {
   "cell_type": "code",
   "execution_count": 7,
   "id": "23bc3d51",
   "metadata": {},
   "outputs": [
    {
     "name": "stdout",
     "output_type": "stream",
     "text": [
      "Binary Feature Selection Results:\n",
      "             Feature  Chi2 Score       P-Value\n",
      "0                Sex    4.671255  3.067151e-02\n",
      "1          FastingBS   19.086751  1.249090e-05\n",
      "2         RestingECG    1.046841  3.062357e-01\n",
      "3     ExerciseAngina   30.540549  3.269607e-08\n",
      "4           ST_Slope   47.484355  5.544468e-12\n",
      "5  ChestPainType_ATA   67.711122  1.892927e-16\n",
      "6  ChestPainType_ASY   73.106902  1.228143e-17\n",
      "7  ChestPainType_NAP    9.810182  1.735484e-03\n",
      "8   ChestPainType_TA    0.018018  8.932197e-01\n",
      "Non-Binary Feature Selection using Pearson Correlation:\n",
      "       Feature  Pearson Correlation       P-Value\n",
      "0          Age             0.312284  3.904141e-13\n",
      "1    RestingBP             0.181774  3.270740e-05\n",
      "2  Cholesterol             0.129325  3.251016e-03\n",
      "3        MaxHR            -0.411757  1.555816e-22\n",
      "4      Oldpeak             0.540995  1.455425e-40\n",
      "Non-Binary Feature Selection Results using ANOVA F-test:\n",
      "       Feature     F-Score       P-Value\n",
      "0          Age   55.542541  3.904141e-13\n",
      "1    RestingBP   17.563782  3.270740e-05\n",
      "2  Cholesterol    8.742892  3.251016e-03\n",
      "3        MaxHR  104.937019  1.555816e-22\n",
      "4      Oldpeak  212.682411  1.455425e-40\n",
      "Selected Non-Binary Features by Variance Threshold:\n",
      "['Age', 'RestingBP', 'Cholesterol', 'MaxHR', 'Oldpeak']\n"
     ]
    }
   ],
   "source": [
    "from sklearn.feature_selection import chi2, f_classif, VarianceThreshold\n",
    "from scipy.stats import pearsonr\n",
    "import pandas as pd\n",
    "import numpy as np\n",
    "\n",
    "heart_data.dropna(inplace=True)\n",
    "# Define binary and non-binary columns\n",
    "binary_columns = ['Sex','FastingBS','RestingECG','ExerciseAngina', 'ST_Slope','ChestPainType_ATA','ChestPainType_ASY','ChestPainType_NAP','ChestPainType_TA']\n",
    "non_binary_columns = ['Age', 'RestingBP', 'Cholesterol', 'MaxHR', 'Oldpeak']\n",
    "target_column = 'HeartDisease'\n",
    "\n",
    "# Define features (X) and target (y)\n",
    "X = heart_data.drop('HeartDisease', axis=1)\n",
    "y = heart_data['HeartDisease']\n",
    "\n",
    "\n",
    "#1. The Chi-square test is suitable for categorical (binary) variables to check their association with the target.\n",
    "chi2_scores, p_values = chi2(X[binary_columns], y)\n",
    "\n",
    "# Create a DataFrame to view the scores and p-values\n",
    "binary_feature_selection = pd.DataFrame({\n",
    "    'Feature': binary_columns,\n",
    "    'Chi2 Score': chi2_scores,\n",
    "    'P-Value': p_values\n",
    "})\n",
    "\n",
    "print(\"Binary Feature Selection Results:\")\n",
    "print(binary_feature_selection)\n",
    "\n",
    "#2. Correlation Coefficient with Pearson for non-binary variables\n",
    "pearson_results = []\n",
    "for col in non_binary_columns:\n",
    "    corr, p_val = pearsonr(X[col], y)\n",
    "    pearson_results.append({'Feature': col, 'Pearson Correlation': corr, 'P-Value': p_val})\n",
    "\n",
    "pearson_df = pd.DataFrame(pearson_results)\n",
    "print(\"Non-Binary Feature Selection using Pearson Correlation:\")\n",
    "print(pearson_df)\n",
    "\n",
    "\n",
    "f_scores, p_values = f_classif(X[non_binary_columns], y)\n",
    "\n",
    "\n",
    "anova_feature_selection = pd.DataFrame({\n",
    "    'Feature': non_binary_columns,\n",
    "    'F-Score': f_scores,\n",
    "    'P-Value': p_values\n",
    "})\n",
    "\n",
    "print(\"Non-Binary Feature Selection Results using ANOVA F-test:\")\n",
    "print(anova_feature_selection)\n",
    "\n",
    "variance_selector = VarianceThreshold(threshold=0.1)\n",
    "variance_selector.fit(X[non_binary_columns])\n",
    "\n",
    "selected_variance_features = X[non_binary_columns].columns[variance_selector.get_support()]\n",
    "\n",
    "print(\"Selected Non-Binary Features by Variance Threshold:\")\n",
    "print(selected_variance_features.tolist())\n",
    "\n"
   ]
  },
  {
   "cell_type": "markdown",
   "id": "e5038555",
   "metadata": {},
   "source": [
    "From this result, the most importance features for binary variables are ChestPainType_ASY, ChestPainType_ATA, ST-Sope, ExerciseAngina, FastingBS, ChestPainType_NAP. We reject Sex, RestingECG, ChestPainType_TA since their p-value>0.01.\n",
    "For non_binary variables, the importance of features (high to low) is Oldpeak, MaxHR, Age, RestingBP, Cholesterol. Their p-value are bigger than 0.01, non of them reject.\n"
   ]
  },
  {
   "cell_type": "markdown",
   "id": "e7cc3b22",
   "metadata": {},
   "source": [
    "I will use Recursive Feature Elimination (RFE) as the wrapper methods"
   ]
  },
  {
   "cell_type": "code",
   "execution_count": 8,
   "id": "9c5f54c8",
   "metadata": {},
   "outputs": [
    {
     "data": {
      "image/png": "[encoded data removed]",
      "text/plain": [
       "<Figure size 720x432 with 1 Axes>"
      ]
     },
     "metadata": {
      "needs_background": "light"
     },
     "output_type": "display_data"
    },
    {
     "name": "stdout",
     "output_type": "stream",
     "text": [
      "Feature Importance Ranking (High to Low):\n",
      "              Feature  Ranking  Support\n",
      "9            ST_Slope        1     True\n",
      "11  ChestPainType_ATA        2    False\n",
      "12  ChestPainType_NAP        3    False\n",
      "7      ExerciseAngina        4    False\n",
      "4           FastingBS        5    False\n",
      "1                 Sex        6    False\n",
      "8             Oldpeak        7    False\n",
      "13   ChestPainType_TA        8    False\n",
      "5          RestingECG        9    False\n",
      "10  ChestPainType_ASY       10    False\n",
      "6               MaxHR       11    False\n",
      "2           RestingBP       12    False\n",
      "0                 Age       13    False\n",
      "3         Cholesterol       14    False\n"
     ]
    }
   ],
   "source": [
    "from sklearn.linear_model import LogisticRegression\n",
    "from sklearn.feature_selection import RFE\n",
    "import matplotlib.pyplot as plt\n",
    "import pandas as pd\n",
    "\n",
    "# Define the logistic regression model and RFE\n",
    "model = LogisticRegression(max_iter=200, solver='liblinear')  # 'liblinear' solver is suitable for smaller datasets\n",
    "rfe = RFE(estimator=model, n_features_to_select=1)  # Selecting all features to rank them by importance\n",
    "rfe.fit(X, y)\n",
    "\n",
    "\n",
    "ranking = pd.DataFrame({'Feature': X.columns, 'Ranking': rfe.ranking_, 'Support': rfe.support_})\n",
    "ranking = ranking.sort_values(by='Ranking', ascending=True)\n",
    "\n",
    "\n",
    "plt.figure(figsize=(10, 6))\n",
    "plt.barh(ranking['Feature'], ranking['Ranking'], color='skyblue')\n",
    "plt.xlabel(\"Ranking (1 = Most Important)\")\n",
    "plt.ylabel(\"Features\")\n",
    "plt.title(\"Feature Importance Ranking by RFE\")\n",
    "plt.gca().invert_yaxis()  \n",
    "plt.show()\n",
    "print(\"Feature Importance Ranking (High to Low):\")\n",
    "print(ranking)"
   ]
  },
  {
   "cell_type": "code",
   "execution_count": null,
   "id": "699efce8",
   "metadata": {},
   "outputs": [],
   "source": [
    "\n"
   ]
  },
  {
   "cell_type": "markdown",
   "id": "cd71e5db",
   "metadata": {},
   "source": [
    "Filter Methods (Correlation Coefficient, Chi-Square, ANOVA F-test, and Variance Threshold):\n",
    "\n",
    "These methods assess each feature individually, measuring its direct association with the target variable without considering interactions between features.\n",
    "For example, ANOVA F-test and Chi-Square test evaluate the variance and independence of features with respect to the target. Features with low p-values are deemed important.\n",
    "This can lead to selecting features that have high individual significance but might be redundant or less impactful in a multivariate setting.\n",
    "Wrapper Method (RFE):\n",
    "\n",
    "RFE evaluates feature importance based on the model’s performance with different subsets of features, accounting for interactions between features.\n",
    "\n",
    "By recursively removing the least important features and re-evaluating the model, RFE selects features that contribute more to the overall model performance rather than just individual significance.\n",
    "This approach tends to select fewer features overall, focusing on the ones that truly improve model performance in combination with others.\n",
    "\n",
    "Final Selected Features (Combined Approach)\n",
    "To balance between individual feature significance and overall model performance, the following combined features are suggested:\n",
    "\n",
    "ST_Slope\n",
    "\n",
    "ChestPainType_ATA\n",
    "\n",
    "ChestPainType_NAP\n",
    "\n",
    "ExerciseAngina\n",
    "\n",
    "FastingBS\n",
    "\n",
    "Oldpeak\n",
    "\n",
    "ChestPainType_ASY\n",
    "\n",
    "MaxHR\n",
    "\n",
    "These features were consistently ranked high in either filter methods or RFE and are likely to contribute meaningfully to the model when used together. This combined approach leverages both individual feature significance and multivariate importance for robust feature selection."
   ]
  },
  {
   "cell_type": "markdown",
   "id": "38f67bc5",
   "metadata": {},
   "source": [
    "build a logistic regression classification model using PyTorch with the selected features"
   ]
  },
  {
   "cell_type": "code",
   "execution_count": 9,
   "id": "6929c413",
   "metadata": {},
   "outputs": [
    {
     "name": "stdout",
     "output_type": "stream",
     "text": [
      "Epoch [100/1000], Loss: 0.3207, Validation Accuracy: 0.9135\n",
      "Epoch [200/1000], Loss: 0.3113, Validation Accuracy: 0.9038\n",
      "Epoch [300/1000], Loss: 0.3090, Validation Accuracy: 0.9038\n",
      "Epoch [400/1000], Loss: 0.3085, Validation Accuracy: 0.9038\n",
      "Epoch [500/1000], Loss: 0.3084, Validation Accuracy: 0.9038\n",
      "Epoch [600/1000], Loss: 0.3084, Validation Accuracy: 0.9038\n",
      "Epoch [700/1000], Loss: 0.3084, Validation Accuracy: 0.9038\n",
      "Epoch [800/1000], Loss: 0.3084, Validation Accuracy: 0.9038\n",
      "Epoch [900/1000], Loss: 0.3084, Validation Accuracy: 0.9038\n",
      "Epoch [1000/1000], Loss: 0.3084, Validation Accuracy: 0.9038\n",
      "Final Accuracy on test set: 0.9038\n"
     ]
    },
    {
     "data": {
      "image/png": "[encoded data removed]",
      "text/plain": [
       "<Figure size 432x288 with 1 Axes>"
      ]
     },
     "metadata": {
      "needs_background": "light"
     },
     "output_type": "display_data"
    },
    {
     "data": {
      "image/png": "[encoded data removed]",
      "text/plain": [
       "<Figure size 432x288 with 1 Axes>"
      ]
     },
     "metadata": {
      "needs_background": "light"
     },
     "output_type": "display_data"
    }
   ],
   "source": [
    "import torch\n",
    "import torch.nn as nn\n",
    "import torch.optim as optim\n",
    "from sklearn.model_selection import train_test_split\n",
    "from sklearn.preprocessing import StandardScaler\n",
    "from sklearn.metrics import accuracy_score, roc_curve, auc, precision_recall_curve, average_precision_score\n",
    "import matplotlib.pyplot as plt\n",
    "\n",
    "\n",
    "selected_features = [\"ST_Slope\", \"ChestPainType_ATA\", \"ChestPainType_NAP\", \"ExerciseAngina\",\n",
    "                     \"FastingBS\", \"Oldpeak\", \"ChestPainType_ASY\", \"MaxHR\"]\n",
    "X = heart_data[selected_features].values  # Features\n",
    "y = heart_data[\"HeartDisease\"].values  # Target\n",
    "\n",
    "\n",
    "X_train, X_test, y_train, y_test = train_test_split(X, y, test_size=0.2, random_state=42)\n",
    "\n",
    "\n",
    "scaler = StandardScaler()\n",
    "X_train = scaler.fit_transform(X_train)\n",
    "X_test = scaler.transform(X_test)\n",
    "\n",
    "\n",
    "X_train = torch.tensor(X_train, dtype=torch.float32)\n",
    "X_test = torch.tensor(X_test, dtype=torch.float32)\n",
    "y_train = torch.tensor(y_train, dtype=torch.float32).view(-1, 1)\n",
    "y_test = torch.tensor(y_test, dtype=torch.float32).view(-1, 1)\n",
    "\n",
    "\n",
    "class LogisticRegressionModel(nn.Module):\n",
    "    def __init__(self, input_dim):\n",
    "        super(LogisticRegressionModel, self).__init__()\n",
    "        self.linear = nn.Linear(input_dim, 1)\n",
    "    \n",
    "    def forward(self, x):\n",
    "        return torch.sigmoid(self.linear(x))\n",
    "\n",
    "input_dim = X_train.shape[1]\n",
    "model = LogisticRegressionModel(input_dim)\n",
    "criterion = nn.BCELoss()  \n",
    "optimizer = optim.Adam(model.parameters(), lr=0.01)  \n",
    "\n",
    "\n",
    "epochs = 1000\n",
    "best_accuracy = 0\n",
    "early_stop_count = 0\n",
    "early_stop_threshold = 10\n",
    "\n",
    "for epoch in range(epochs):\n",
    "    model.train()\n",
    "    \n",
    "    \n",
    "    outputs = model(X_train)\n",
    "    loss = criterion(outputs, y_train)\n",
    "    \n",
    "    \n",
    "    optimizer.zero_grad()\n",
    "    loss.backward()\n",
    "    optimizer.step()\n",
    "    \n",
    "    \n",
    "    if (epoch + 1) % 100 == 0:\n",
    "        model.eval()\n",
    "        with torch.no_grad():\n",
    "            val_outputs = model(X_test)\n",
    "            val_predictions = val_outputs.round()\n",
    "            val_accuracy = accuracy_score(y_test, val_predictions.numpy())\n",
    "            \n",
    "            print(f'Epoch [{epoch+1}/{epochs}], Loss: {loss.item():.4f}, Validation Accuracy: {val_accuracy:.4f}')\n",
    "            \n",
    "            \n",
    "            if val_accuracy > best_accuracy:\n",
    "                best_accuracy = val_accuracy\n",
    "                early_stop_count = 0\n",
    "            else:\n",
    "                early_stop_count += 1\n",
    "                if early_stop_count >= early_stop_threshold:\n",
    "                    print(\"Early stopping triggered.\")\n",
    "                    break\n",
    "\n",
    "\n",
    "model.eval()\n",
    "with torch.no_grad():\n",
    "    final_predictions = model(X_test).numpy()\n",
    "    final_predictions_rounded = (final_predictions >= 0.5).astype(int) \n",
    "    accuracy = accuracy_score(y_test, final_predictions_rounded)\n",
    "    print(f'Final Accuracy on test set: {accuracy:.4f}')\n",
    "\n",
    "# ROC Curve\n",
    "fpr, tpr, _ = roc_curve(y_test, final_predictions)\n",
    "roc_auc = auc(fpr, tpr)\n",
    "\n",
    "plt.figure()\n",
    "plt.plot(fpr, tpr, color='blue', label=f'ROC Curve (AUC = {roc_auc:.2f})')\n",
    "plt.plot([0, 1], [0, 1], color='gray', linestyle='--')\n",
    "plt.xlabel('False Positive Rate')\n",
    "plt.ylabel('True Positive Rate')\n",
    "plt.title('Receiver Operating Characteristic (ROC) Curve')\n",
    "plt.legend(loc=\"lower right\")\n",
    "plt.show()\n",
    "\n",
    "# Precision-Recall Curve\n",
    "precision, recall, _ = precision_recall_curve(y_test, final_predictions)\n",
    "average_precision = average_precision_score(y_test, final_predictions)\n",
    "\n",
    "plt.figure()\n",
    "plt.plot(recall, precision, color='purple', label=f'Precision-Recall Curve (AP = {average_precision:.2f})')\n",
    "plt.xlabel('Recall')\n",
    "plt.ylabel('Precision')\n",
    "plt.title('Precision-Recall Curve')\n",
    "plt.legend(loc=\"lower left\")\n",
    "plt.show()\n"
   ]
  },
  {
   "cell_type": "code",
   "execution_count": null,
   "id": "4d2c9490",
   "metadata": {},
   "outputs": [],
   "source": []
  },
  {
   "cell_type": "markdown",
   "id": "7098467e",
   "metadata": {},
   "source": [
    "The logistic regression model, using the selected features and optimized with normalization, early stopping, and Adam optimization, proved to be highly effective for this binary classification task. The high accuracy, AUC, and AP scores indicate that this model is reliable for predicting heart disease, with strong performance in both sensitivity (recall) and precision."
   ]
  },
  {
   "cell_type": "markdown",
   "id": "87c61559",
   "metadata": {},
   "source": [
    "build a randon forest classification model using PyTorch with the selected features"
   ]
  },
  {
   "cell_type": "code",
   "execution_count": null,
   "id": "78f55624",
   "metadata": {},
   "outputs": [],
   "source": []
  },
  {
   "cell_type": "code",
   "execution_count": 12,
   "id": "6a5c4c89",
   "metadata": {},
   "outputs": [
    {
     "name": "stdout",
     "output_type": "stream",
     "text": [
      "Epoch [100/1000], Loss: 0.2634\n",
      "Epoch [200/1000], Loss: 0.2136\n",
      "Epoch [300/1000], Loss: 0.1810\n",
      "Epoch [400/1000], Loss: 0.1604\n",
      "Epoch [500/1000], Loss: 0.1493\n",
      "Epoch [600/1000], Loss: 0.1425\n",
      "Epoch [700/1000], Loss: 0.1379\n",
      "Epoch [800/1000], Loss: 0.1340\n",
      "Epoch [900/1000], Loss: 0.1310\n",
      "Epoch [1000/1000], Loss: 0.1290\n",
      "Final Accuracy on test set: 0.8750\n"
     ]
    },
    {
     "data": {
      "image/png": "[encoded data removed]",
      "text/plain": [
       "<Figure size 432x288 with 1 Axes>"
      ]
     },
     "metadata": {
      "needs_background": "light"
     },
     "output_type": "display_data"
    },
    {
     "data": {
      "image/png": "[encoded data removed]",
      "text/plain": [
       "<Figure size 432x288 with 1 Axes>"
      ]
     },
     "metadata": {
      "needs_background": "light"
     },
     "output_type": "display_data"
    }
   ],
   "source": [
    "import torch\n",
    "import torch.nn as nn\n",
    "import torch.optim as optim\n",
    "from sklearn.model_selection import train_test_split\n",
    "from sklearn.preprocessing import StandardScaler\n",
    "from sklearn.metrics import accuracy_score, roc_curve, auc, precision_recall_curve, average_precision_score\n",
    "import matplotlib.pyplot as plt\n",
    "import numpy as np\n",
    "\n",
    "\n",
    "selected_features = [\"ST_Slope\", \"ChestPainType_ATA\", \"ChestPainType_NAP\", \"ExerciseAngina\",\n",
    "                     \"FastingBS\", \"Oldpeak\", \"ChestPainType_ASY\", \"MaxHR\"]\n",
    "X = heart_data[selected_features].values  # Features\n",
    "y = heart_data[\"HeartDisease\"].values  # Target\n",
    "\n",
    "\n",
    "X_train, X_test, y_train, y_test = train_test_split(X, y, test_size=0.2, random_state=42)\n",
    "\n",
    "\n",
    "scaler = StandardScaler()\n",
    "X_train = scaler.fit_transform(X_train)\n",
    "X_test = scaler.transform(X_test)\n",
    "\n",
    "\n",
    "X_train = torch.tensor(X_train, dtype=torch.float32)\n",
    "X_test = torch.tensor(X_test, dtype=torch.float32)\n",
    "y_train = torch.tensor(y_train, dtype=torch.float32).view(-1, 1)\n",
    "y_test = torch.tensor(y_test, dtype=torch.float32).view(-1, 1)\n",
    "\n",
    "\n",
    "class SimpleNN(nn.Module):\n",
    "    def __init__(self, input_dim):\n",
    "        super(SimpleNN, self).__init__()\n",
    "        self.fc1 = nn.Linear(input_dim, 16)\n",
    "        self.fc2 = nn.Linear(16, 1)\n",
    "    \n",
    "    def forward(self, x):\n",
    "        x = torch.relu(self.fc1(x))\n",
    "        return torch.sigmoid(self.fc2(x))\n",
    "\n",
    "\n",
    "class RandomForestLikeEnsemble(nn.Module):\n",
    "    def __init__(self, input_dim, n_estimators=10):\n",
    "        super(RandomForestLikeEnsemble, self).__init__()\n",
    "        self.trees = nn.ModuleList([SimpleNN(input_dim) for _ in range(n_estimators)])\n",
    "    \n",
    "    def forward(self, x):\n",
    "        # Average the outputs of all \"trees\"\n",
    "        outputs = [tree(x) for tree in self.trees]\n",
    "        return torch.mean(torch.stack(outputs), dim=0)\n",
    "\n",
    "\n",
    "input_dim = X_train.shape[1]\n",
    "ensemble_model = RandomForestLikeEnsemble(input_dim, n_estimators=10)\n",
    "criterion = nn.BCELoss()  \n",
    "optimizer = optim.Adam(ensemble_model.parameters(), lr=0.01)  \n",
    "\n",
    "epochs = 1000\n",
    "for epoch in range(epochs):\n",
    "    ensemble_model.train()\n",
    "    \n",
    "   \n",
    "    outputs = ensemble_model(X_train)\n",
    "    loss = criterion(outputs, y_train)\n",
    "    \n",
    "    \n",
    "    optimizer.zero_grad()\n",
    "    loss.backward()\n",
    "    optimizer.step()\n",
    "    \n",
    "   \n",
    "    if (epoch+1) % 100 == 0:\n",
    "        print(f'Epoch [{epoch+1}/{epochs}], Loss: {loss.item():.4f}')\n",
    "\n",
    "\n",
    "ensemble_model.eval()\n",
    "with torch.no_grad():\n",
    "    test_outputs = ensemble_model(X_test)\n",
    "    test_predictions = test_outputs.round()\n",
    "    accuracy = accuracy_score(y_test, test_predictions.numpy())\n",
    "    print(f'Final Accuracy on test set: {accuracy:.4f}')\n",
    "\n",
    "\n",
    "y_prob = test_outputs.numpy()\n",
    "\n",
    "# ROC Curve\n",
    "fpr, tpr, _ = roc_curve(y_test, y_prob)\n",
    "roc_auc = auc(fpr, tpr)\n",
    "\n",
    "plt.figure()\n",
    "plt.plot(fpr, tpr, color='blue', label=f'ROC Curve (AUC = {roc_auc:.2f})')\n",
    "plt.plot([0, 1], [0, 1], color='gray', linestyle='--')\n",
    "plt.xlabel('False Positive Rate')\n",
    "plt.ylabel('True Positive Rate')\n",
    "plt.title('Receiver Operating Characteristic (ROC) Curve')\n",
    "plt.legend(loc=\"lower right\")\n",
    "plt.show()\n",
    "\n",
    "# Precision-Recall Curve\n",
    "precision, recall, _ = precision_recall_curve(y_test, y_prob)\n",
    "average_precision = average_precision_score(y_test, y_prob)\n",
    "\n",
    "plt.figure()\n",
    "plt.plot(recall, precision, color='purple', label=f'Precision-Recall Curve (AP = {average_precision:.2f})')\n",
    "plt.xlabel('Recall')\n",
    "plt.ylabel('Precision')\n",
    "plt.title('Precision-Recall Curve')\n",
    "plt.legend(loc=\"lower left\")\n",
    "plt.show()\n"
   ]
  },
  {
   "cell_type": "code",
   "execution_count": null,
   "id": "debd1b60",
   "metadata": {},
   "outputs": [],
   "source": []
  },
  {
   "cell_type": "code",
   "execution_count": null,
   "id": "5711d592",
   "metadata": {},
   "outputs": [],
   "source": [
    " "
   ]
  },
  {
   "cell_type": "code",
   "execution_count": null,
   "id": "0d12d528",
   "metadata": {},
   "outputs": [],
   "source": []
  },
  {
   "cell_type": "code",
   "execution_count": null,
   "id": "fd662f2a",
   "metadata": {},
   "outputs": [],
   "source": []
  },
  {
   "cell_type": "code",
   "execution_count": null,
   "id": "76eeeef3",
   "metadata": {},
   "outputs": [],
   "source": []
  },
  {
   "cell_type": "code",
   "execution_count": null,
   "id": "ebdf811d",
   "metadata": {},
   "outputs": [],
   "source": []
  }
 ],
 "metadata": {
  "kernelspec": {
   "display_name": "Python 3 (ipykernel)",
   "language": "python",
   "name": "python3"
  },
  "language_info": {
   "codemirror_mode": {
    "name": "ipython",
    "version": 3
   },
   "file_extension": ".py",
   "mimetype": "text/x-python",
   "name": "python",
   "nbconvert_exporter": "python",
   "pygments_lexer": "ipython3",
   "version": "3.9.7"
  }
 },
 "nbformat": 4,
 "nbformat_minor": 5
}
